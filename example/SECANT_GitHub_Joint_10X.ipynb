{
  "nbformat": 4,
  "nbformat_minor": 0,
  "metadata": {
    "colab": {
      "name": "SECANT_GitHub_Joint_10X.ipynb",
      "provenance": [],
      "collapsed_sections": []
    },
    "kernelspec": {
      "name": "python3",
      "display_name": "Python 3"
    },
    "accelerator": "GPU"
  },
  "cells": [
    {
      "cell_type": "markdown",
      "metadata": {
        "id": "F8WxMwgodZvL"
      },
      "source": [
        "### Install SECANT from GitHub\n",
        "##### - Before running, make sure runtime has been set to GPU"
      ]
    },
    {
      "cell_type": "code",
      "metadata": {
        "id": "G7ZKJxvigHZb",
        "colab": {
          "base_uri": "https://localhost:8080/"
        },
        "outputId": "4dd73b15-cb38-4d7d-bab9-2b4ddbab6bba"
      },
      "source": [
        "!pip install git+https://github.com/tarot0410/SECANT.git -q\n",
        "!pip install umap-learn"
      ],
      "execution_count": null,
      "outputs": [
        {
          "output_type": "stream",
          "name": "stdout",
          "text": [
            "  Building wheel for SECANT (setup.py) ... \u001b[?25l\u001b[?25hdone\n",
            "Collecting umap-learn\n",
            "  Downloading umap-learn-0.5.2.tar.gz (86 kB)\n",
            "\u001b[K     |████████████████████████████████| 86 kB 4.3 MB/s \n",
            "\u001b[?25hRequirement already satisfied: numpy>=1.17 in /usr/local/lib/python3.7/dist-packages (from umap-learn) (1.19.5)\n",
            "Requirement already satisfied: scikit-learn>=0.22 in /usr/local/lib/python3.7/dist-packages (from umap-learn) (1.0.2)\n",
            "Requirement already satisfied: scipy>=1.0 in /usr/local/lib/python3.7/dist-packages (from umap-learn) (1.4.1)\n",
            "Requirement already satisfied: numba>=0.49 in /usr/local/lib/python3.7/dist-packages (from umap-learn) (0.51.2)\n",
            "Collecting pynndescent>=0.5\n",
            "  Downloading pynndescent-0.5.5.tar.gz (1.1 MB)\n",
            "\u001b[K     |████████████████████████████████| 1.1 MB 64.2 MB/s \n",
            "\u001b[?25hRequirement already satisfied: tqdm in /usr/local/lib/python3.7/dist-packages (from umap-learn) (4.62.3)\n",
            "Requirement already satisfied: setuptools in /usr/local/lib/python3.7/dist-packages (from numba>=0.49->umap-learn) (57.4.0)\n",
            "Requirement already satisfied: llvmlite<0.35,>=0.34.0.dev0 in /usr/local/lib/python3.7/dist-packages (from numba>=0.49->umap-learn) (0.34.0)\n",
            "Requirement already satisfied: joblib>=0.11 in /usr/local/lib/python3.7/dist-packages (from pynndescent>=0.5->umap-learn) (1.1.0)\n",
            "Requirement already satisfied: threadpoolctl>=2.0.0 in /usr/local/lib/python3.7/dist-packages (from scikit-learn>=0.22->umap-learn) (3.0.0)\n",
            "Building wheels for collected packages: umap-learn, pynndescent\n",
            "  Building wheel for umap-learn (setup.py) ... \u001b[?25l\u001b[?25hdone\n",
            "  Created wheel for umap-learn: filename=umap_learn-0.5.2-py3-none-any.whl size=82708 sha256=8b8475ec311a5dbb1d91343f69679ae774d4e5fd1cf4d3b99b080ea6914db1a8\n",
            "  Stored in directory: /root/.cache/pip/wheels/84/1b/c6/aaf68a748122632967cef4dffef68224eb16798b6793257d82\n",
            "  Building wheel for pynndescent (setup.py) ... \u001b[?25l\u001b[?25hdone\n",
            "  Created wheel for pynndescent: filename=pynndescent-0.5.5-py3-none-any.whl size=52603 sha256=e8708e63b80a0fd59ae4aaba0fd513a161992746c68c5811e5148be98cc81dab\n",
            "  Stored in directory: /root/.cache/pip/wheels/af/e9/33/04db1436df0757c42fda8ea6796d7a8586e23c85fac355f476\n",
            "Successfully built umap-learn pynndescent\n",
            "Installing collected packages: pynndescent, umap-learn\n",
            "Successfully installed pynndescent-0.5.5 umap-learn-0.5.2\n"
          ]
        }
      ]
    },
    {
      "cell_type": "markdown",
      "metadata": {
        "id": "4jWg19A1c1jr"
      },
      "source": [
        "### Import packages"
      ]
    },
    {
      "cell_type": "code",
      "metadata": {
        "id": "NiFXL4jId5Op"
      },
      "source": [
        "from SECANT import SECANT as SE\n",
        "import torch\n",
        "import numpy as np\n",
        "import pandas as pd\n",
        "import umap\n",
        "import matplotlib.pyplot as plt"
      ],
      "execution_count": null,
      "outputs": []
    },
    {
      "cell_type": "markdown",
      "metadata": {
        "id": "O23p5XsbdYMt"
      },
      "source": [
        "### Mount Google Drive for accessing external data"
      ]
    },
    {
      "cell_type": "code",
      "metadata": {
        "id": "39ASG_JdBSpS"
      },
      "source": [
        "# from google.colab import drive\n",
        "# drive.mount('/content/drive')"
      ],
      "execution_count": null,
      "outputs": []
    },
    {
      "cell_type": "markdown",
      "metadata": {
        "id": "n96ry6IOpIPC"
      },
      "source": [
        "### Joint analyzing 10X10k_PBMC (CITE-seq) and 10X5k_PBMC (mimic scRNA-seq) data"
      ]
    },
    {
      "cell_type": "code",
      "metadata": {
        "colab": {
          "base_uri": "https://localhost:8080/"
        },
        "id": "2ERYpO5JdGPA",
        "outputId": "5fc6b174-04fb-4ee7-83c5-792502c2946e"
      },
      "source": [
        "url = 'https://raw.githubusercontent.com/tarot0410/SECANT/main/real_data/Joint_10X/'\n",
        "### Load in ADT confident cell type label\n",
        "# ADT data from 10X10k (CITE-seq input)\n",
        "ADT_df0 = pd.read_csv(url + 'label_10X10k.csv')\n",
        "ADT_Lbl0 = SE.df_to_tensor(ADT_df0)[:,0]   \n",
        "ADT_Lbl0 = ADT_Lbl0 - 1 # make sure values in ADT_Lbl0 range from 0, and the maximum value refers to \"uncertain\" group\n",
        "# Check uncertain rate in the given ADT label\n",
        "print('P(uncertain|ADT0)=', round(sum(ADT_Lbl0.cpu().numpy()==int(torch.max(ADT_Lbl0)))/ADT_Lbl0.size(0),3))\n",
        "\n",
        "# ADT data from 10X5k (mimic scRNA-seq input)\n",
        "# labels are not used for fitting SECANT, but for assessing prediction performance only\n",
        "ADT_df1 = pd.read_csv(url + 'label_10X5k.csv')\n",
        "ADT_Lbl1 = SE.df_to_tensor(ADT_df1)[:,0]   \n",
        "ADT_Lbl1 = ADT_Lbl1 - 1 # make sure values in ADT_Lbl1 range from 0, and the maximum value refers to \"uncertain\" group\n",
        "# Check uncertain rate in the given ADT label\n",
        "print('P(uncertain|ADT1)=', round(sum(ADT_Lbl1.cpu().numpy()==int(torch.max(ADT_Lbl1)))/ADT_Lbl1.size(0),3))\n",
        "\n",
        "### Load in RNA data (after dimension reduction)\n",
        "# RNA data from 10X10k\n",
        "RNA_df0 = pd.read_csv(url + 'latent_10k.csv')\n",
        "RNA_df0.drop(RNA_df0.columns[[0]], axis=1, inplace=True) # drop index column\n",
        "data0 = SE.df_to_tensor(RNA_df0) # convert data matrix df to tensor\n",
        "print('#cells|RNA0=', data0.size(0))\n",
        "print('#features|RNA0=', data0.size(1))\n",
        "\n",
        "# RNA data from 10X5k\n",
        "RNA_df1 = pd.read_csv(url + 'latent_5k.csv')\n",
        "RNA_df1.drop(RNA_df1.columns[[0]], axis=1, inplace=True) # drop index column\n",
        "data1 = SE.df_to_tensor(RNA_df1) # convert data matrix df to tensor\n",
        "print('#cells|RNA1=', data1.size(0))\n",
        "print('#features|RNA1=', data1.size(1))"
      ],
      "execution_count": null,
      "outputs": [
        {
          "output_type": "stream",
          "name": "stdout",
          "text": [
            "P(uncertain|ADT0)= 0.163\n",
            "P(uncertain|ADT1)= 0.115\n",
            "#cells|RNA0= 7865\n",
            "#features|RNA0= 10\n",
            "#cells|RNA1= 5527\n",
            "#features|RNA1= 10\n"
          ]
        }
      ]
    },
    {
      "cell_type": "markdown",
      "metadata": {
        "id": "SU-N_MXSwEg2"
      },
      "source": [
        "### Visualization of pooled RNA data after batch effect correction"
      ]
    },
    {
      "cell_type": "code",
      "metadata": {
        "id": "Qn_inKPbwG-3"
      },
      "source": [
        "# Set up UMAP\n",
        "N0 = data0.size()[0]\n",
        "N1 = data1.size()[0]\n",
        "data_pool = torch.cat((data0, data1), 0)\n",
        "batchLbl = np.concatenate((np.zeros(N0), np.ones(N1)))"
      ],
      "execution_count": null,
      "outputs": []
    },
    {
      "cell_type": "code",
      "metadata": {
        "id": "E3PJ22J-wIGg",
        "colab": {
          "base_uri": "https://localhost:8080/"
        },
        "outputId": "b7dba9a2-297b-40c6-ff29-4ff380142b78"
      },
      "source": [
        "reducer = umap.UMAP(random_state=42)\n",
        "embedding0 = reducer.fit_transform(data_pool.cpu())"
      ],
      "execution_count": null,
      "outputs": [
        {
          "output_type": "stream",
          "name": "stderr",
          "text": [
            "/usr/local/lib/python3.7/dist-packages/numba/np/ufunc/parallel.py:363: NumbaWarning: The TBB threading layer requires TBB version 2019.5 or later i.e., TBB_INTERFACE_VERSION >= 11005. Found TBB_INTERFACE_VERSION = 9107. The TBB threading layer is disabled.\n",
            "  warnings.warn(problem)\n"
          ]
        }
      ]
    },
    {
      "cell_type": "code",
      "metadata": {
        "colab": {
          "base_uri": "https://localhost:8080/",
          "height": 265
        },
        "id": "iaIXA3M_wJGA",
        "outputId": "a2e1bb16-0c3b-423e-8c3d-4198e7e1a553"
      },
      "source": [
        "scatter0 = plt.scatter(embedding0[:, 0],\n",
        "            embedding0[:, 1],\n",
        "            c=batchLbl, s=0.1, cmap='coolwarm')\n",
        "mylabel0=('10X10k', '10X5k')\n",
        "legend0 = plt.legend(handles=scatter0.legend_elements()[0],labels=mylabel0,loc=\"best\", title=\"Batch\", fontsize=\"medium\")"
      ],
      "execution_count": null,
      "outputs": [
        {
          "output_type": "display_data",
          "data": {
            "image/png": "[encoded data removed]",
            "text/plain": [
              "<Figure size 432x288 with 1 Axes>"
            ]
          },
          "metadata": {
            "needs_background": "light"
          }
        }
      ]
    },
    {
      "cell_type": "markdown",
      "metadata": {
        "id": "UDblGwgUkRQI"
      },
      "source": [
        "### Run SECANT"
      ]
    },
    {
      "cell_type": "code",
      "metadata": {
        "id": "PjUXFsPOCxoC"
      },
      "source": [
        "### Input one configuration of concordance matrix\n",
        "# Example: {B:2; CD14+ Mono:2; CD4+ T:3; CD8+ T:3; NK:1}\n",
        "# Determine based on prior knowledge or data-driven (check 'Search_Best_Config' section)\n",
        "concordance_config = [2,2,3,3,1] \n",
        "\n",
        "### Main function to run SECANT\n",
        "SE_rslt = SE.SECANT_JOINT(data0, data1, concordance_config, ADT_Lbl0)\n",
        "\n",
        "### Core outputs\n",
        "# predicted confident cell type for 10X5k (mimic scRNA-seq data)\n",
        "ADT_type_predict = SE_rslt.lbl_predict\n",
        "# cluster labels\n",
        "lbl0 = SE_rslt.lbl0 # for 10X10k (CITE-seq input)\n",
        "lbl1 = SE_rslt.lbl1 # for 10X5k (scRNA-seq input)\n",
        "# concordance matrix\n",
        "conMtxFinal = SE_rslt.conMtxFinal \n",
        "# cluster weights\n",
        "wgt0 = SE_rslt.wgt0_out\n",
        "wgt1 = SE_rslt.wgt1_out\n",
        "# posterior probability of ADT confident cell type prediction (for 10X5k)\n",
        "preditADT_postP = SE_rslt.preditADT_post\n",
        "# final converged log-likelihood\n",
        "logLik_final = SE_rslt.logLik_final \n",
        "\n",
        "### Estimated distribution parameters\n",
        "# cluster-specific mean vector\n",
        "mu_out = SE_rslt.mu_out\n",
        "# cluster-specific covariance matrix\n",
        "scale_out = SE_rslt.scale3D_out\n",
        "scale_out_t = scale_out.permute(0,2,1)\n",
        "cov_out = scale_out @ scale_out_t"
      ],
      "execution_count": null,
      "outputs": []
    },
    {
      "cell_type": "markdown",
      "metadata": {
        "id": "HGV3HmE0yVmp"
      },
      "source": [
        "### Check SECANT results"
      ]
    },
    {
      "cell_type": "code",
      "metadata": {
        "colab": {
          "base_uri": "https://localhost:8080/",
          "height": 282
        },
        "id": "8f_PC-yVutsr",
        "outputId": "71a2b174-78e2-4e7d-981b-df096af3843c"
      },
      "source": [
        "### Check convergence of log-likelihoods\n",
        "# log-likelihoods across all iterations\n",
        "logLik_vec = SE_rslt.logLikVec \n",
        "logLik_vec_final = logLik_vec[logLik_vec != 0] \n",
        "plt.plot(logLik_vec_final)"
      ],
      "execution_count": null,
      "outputs": [
        {
          "output_type": "execute_result",
          "data": {
            "text/plain": [
              "[<matplotlib.lines.Line2D at 0x7f4038e30fd0>]"
            ]
          },
          "metadata": {},
          "execution_count": 9
        },
        {
          "output_type": "display_data",
          "data": {
            "image/png": "[encoded data removed]",
            "text/plain": [
              "<Figure size 432x288 with 1 Axes>"
            ]
          },
          "metadata": {
            "needs_background": "light"
          }
        }
      ]
    },
    {
      "cell_type": "code",
      "source": [
        "### Concordance matrix and cluster weights (new)\n",
        "print('Concordance matrix:')\n",
        "print(np.around(conMtxFinal.cpu().data.numpy(),3))\n",
        "print('')\n",
        "print('Cluster weights_data0:')\n",
        "print(np.around(wgt0.cpu().data.numpy(),3))\n",
        "print('')\n",
        "print('Cluster weights_data1:')\n",
        "print(np.around(wgt1.cpu().data.numpy(),3))"
      ],
      "metadata": {
        "colab": {
          "base_uri": "https://localhost:8080/"
        },
        "id": "lNmECyrF2kAD",
        "outputId": "a646d986-2e29-4ba7-f5cf-3359063728eb"
      },
      "execution_count": null,
      "outputs": [
        {
          "output_type": "stream",
          "name": "stdout",
          "text": [
            "Concordance matrix:\n",
            "[[0.962 0.328 0.    0.    0.    0.    0.    0.    0.    0.    0.   ]\n",
            " [0.    0.    0.177 0.874 0.    0.    0.    0.    0.    0.    0.   ]\n",
            " [0.    0.    0.    0.    0.831 0.986 0.903 0.    0.    0.    0.   ]\n",
            " [0.    0.    0.    0.    0.    0.    0.    0.763 0.871 0.767 0.   ]\n",
            " [0.    0.    0.    0.    0.    0.    0.    0.    0.    0.    0.876]\n",
            " [0.038 0.672 0.823 0.126 0.169 0.014 0.097 0.237 0.129 0.233 0.124]]\n",
            "\n",
            "Cluster weights_data0:\n",
            "[0.067 0.04  0.05  0.227 0.006 0.158 0.155 0.05  0.053 0.075 0.119]\n",
            "\n",
            "Cluster weights_data1:\n",
            "[0.059 0.029 0.08  0.201 0.202 0.144 0.128 0.004 0.02  0.07  0.064]\n"
          ]
        }
      ]
    },
    {
      "cell_type": "code",
      "source": [
        "# show confusion matrix\n",
        "confTab = pd.crosstab(ADT_type_predict.cpu().data.numpy(), ADT_Lbl1.cpu().numpy(),\n",
        "                      rownames = [\"predict\"], colnames = [\"observed\"])\n",
        "print(confTab)\n",
        "confMtx = np.array(confTab)\n",
        "subMtx = confMtx[0:-1, 0:-1]\n",
        "subMtx2 = confMtx[:, 0:-1]\n",
        "accuracy = np.diagonal(subMtx).sum() / subMtx2.sum()\n",
        "\n",
        "print(\"\")\n",
        "print(\"Accuracy (excluding observed uncertain group)=\", accuracy)"
      ],
      "metadata": {
        "id": "HJ8vEQry3eBc",
        "outputId": "2472dd54-f9a1-4655-d856-7b6b9d767ed1",
        "colab": {
          "base_uri": "https://localhost:8080/"
        }
      },
      "execution_count": null,
      "outputs": [
        {
          "output_type": "stream",
          "name": "stdout",
          "text": [
            "observed  0.0   1.0   2.0  3.0  4.0  5.0\n",
            "predict                                 \n",
            "0         305     0     0    0    0   26\n",
            "1           1  1086    19    0    0   29\n",
            "2           0    33  2350  124    4  116\n",
            "3           0     0    65  336    1  109\n",
            "4           1     0    11    7  280   60\n",
            "5          22   187    42    4   12  297\n",
            "\n",
            "Accuracy (excluding observed uncertain group)= 0.8910020449897751\n"
          ]
        }
      ]
    }
  ]
}