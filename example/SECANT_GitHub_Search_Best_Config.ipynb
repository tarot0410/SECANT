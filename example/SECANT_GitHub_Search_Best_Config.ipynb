{
  "nbformat": 4,
  "nbformat_minor": 0,
  "metadata": {
    "colab": {
      "name": "SECANT_GitHub_Search_Best_Config.ipynb",
      "provenance": [],
      "collapsed_sections": []
    },
    "kernelspec": {
      "name": "python3",
      "display_name": "Python 3"
    },
    "accelerator": "GPU"
  },
  "cells": [
    {
      "cell_type": "markdown",
      "metadata": {
        "id": "F8WxMwgodZvL"
      },
      "source": [
        "### Install SECANT from GitHub\r\n",
        "##### - Before running, make sure runtime has been set to GPU"
      ]
    },
    {
      "cell_type": "code",
      "metadata": {
        "id": "G7ZKJxvigHZb",
        "colab": {
          "base_uri": "https://localhost:8080/"
        },
        "outputId": "342ea9ba-ed2c-4a05-e127-0d3bba985019"
      },
      "source": [
        "!pip install git+https://github.com/tarot0410/SECANT.git -q"
      ],
      "execution_count": 1,
      "outputs": [
        {
          "output_type": "stream",
          "text": [
            "  Building wheel for SECANT (setup.py) ... \u001b[?25l\u001b[?25hdone\n"
          ],
          "name": "stdout"
        }
      ]
    },
    {
      "cell_type": "markdown",
      "metadata": {
        "id": "4jWg19A1c1jr"
      },
      "source": [
        "### Import packages"
      ]
    },
    {
      "cell_type": "code",
      "metadata": {
        "id": "NiFXL4jId5Op"
      },
      "source": [
        "from SECANT import SECANT as SE\n",
        "import torch\n",
        "import numpy as np\n",
        "import pandas as pd\n",
        "import umap.umap_ as umap\n",
        "import matplotlib.pyplot as plt\n",
        "import itertools\n",
        "from itertools import combinations\n",
        "import time\n",
        "\n",
        "if torch.cuda.is_available():  \n",
        "  dev = \"cuda:0\" \n",
        "else:  \n",
        "  dev = \"cpu\"  \n",
        "device = torch.device(dev) "
      ],
      "execution_count": 2,
      "outputs": []
    },
    {
      "cell_type": "markdown",
      "metadata": {
        "id": "O23p5XsbdYMt"
      },
      "source": [
        "### Mount Google Drive for accessing external data"
      ]
    },
    {
      "cell_type": "code",
      "metadata": {
        "id": "39ASG_JdBSpS"
      },
      "source": [
        "# from google.colab import drive\r\n",
        "# drive.mount('/content/drive')"
      ],
      "execution_count": null,
      "outputs": []
    },
    {
      "cell_type": "markdown",
      "metadata": {
        "id": "n96ry6IOpIPC"
      },
      "source": [
        "### Analyzing 10X10k_PBMC data"
      ]
    },
    {
      "cell_type": "code",
      "metadata": {
        "colab": {
          "base_uri": "https://localhost:8080/"
        },
        "id": "2ERYpO5JdGPA",
        "outputId": "a7480d8e-8753-408a-d730-7e999c838ca9"
      },
      "source": [
        "### Load in ADT confident cell type label\r\n",
        "url = 'https://raw.githubusercontent.com/tarot0410/SECANT/main/real_data/10X10k_PBMC/'\r\n",
        "ADT_df = pd.read_csv(url + 'label_10X10k.csv')\r\n",
        "ADT_Lbl = SE.df_to_tensor(ADT_df)[:,0]   \r\n",
        "ADT_Lbl = ADT_Lbl - 1 # make sure values in ADT_Lbl range from 0, and the maximum value refers to \"uncertain\" group\r\n",
        "# Check uncertain rate in the given ADT label\r\n",
        "print('P(uncertain)=', round(sum(ADT_Lbl.cpu().numpy()==int(torch.max(ADT_Lbl)))/ADT_Lbl.size(0),3))\r\n",
        "\r\n",
        "# Load in RNA data (after dimension reduction)\r\n",
        "RNA_df0 = pd.read_csv(url + '10X10k_latent_D10.csv')\r\n",
        "RNA_df0.drop(RNA_df0.columns[[0]], axis=1, inplace=True) # drop index column\r\n",
        "data0 = SE.df_to_tensor(RNA_df0) # convert data matrix df to tensor\r\n",
        "print('#cells=', data0.size(0))\r\n",
        "print('#features=', data0.size(1))"
      ],
      "execution_count": 3,
      "outputs": [
        {
          "output_type": "stream",
          "text": [
            "P(uncertain)= 0.163\n",
            "#cells= 7865\n",
            "#features= 10\n"
          ],
          "name": "stdout"
        }
      ]
    },
    {
      "cell_type": "markdown",
      "metadata": {
        "id": "yFphPnml1Srf"
      },
      "source": [
        "### Search for the best configuration\r\n",
        "##### - Time consuming step! Strongly recommend to run each configuration in parallel!"
      ]
    },
    {
      "cell_type": "code",
      "metadata": {
        "colab": {
          "base_uri": "https://localhost:8080/"
        },
        "id": "07pia5MA1WOf",
        "outputId": "2caed89c-4159-46d3-a027-203228278a87"
      },
      "source": [
        "### Generate all configurations\r\n",
        "K = 11 # total number of clusters\r\n",
        "maxN = 11 # restrict the maximum nubmer of sub-clusters an ADT confident cell type can correspond to (smaller or equal to K)\r\n",
        "\r\n",
        "C = np.unique(ADT_Lbl.cpu().numpy()).size # total number of ADT confident cell types\r\n",
        "comb0 = list(combinations(range(K-1), C-2))\r\n",
        "print('#configs without restriction:', len(comb0))\r\n",
        "\r\n",
        "comb1 = np.zeros((len(comb0), C-1))\r\n",
        "for i in range(len(comb0)):\r\n",
        "    comb1[i,0] = comb0[i][0]+1\r\n",
        "    comb1[i,C-2] = K - comb0[i][C-3] - 1\r\n",
        "    for j in range(1,C-2):\r\n",
        "        comb1[i,j] = comb0[i][j] - comb0[i][j-1]\r\n",
        "\r\n",
        "comb2 = comb1[np.amax(comb1, axis=1)<=maxN]\r\n",
        "nComb = len(comb2)\r\n",
        "print('#configs with restriction:', nComb)"
      ],
      "execution_count": 5,
      "outputs": [
        {
          "output_type": "stream",
          "text": [
            "#configs without restriction: 210\n",
            "#configs with restriction: 210\n"
          ],
          "name": "stdout"
        }
      ]
    },
    {
      "cell_type": "code",
      "metadata": {
        "colab": {
          "base_uri": "https://localhost:8080/"
        },
        "id": "FU_DW8cg2wQX",
        "outputId": "e09e77f9-5a67-44e9-ba26-804678451604"
      },
      "source": [
        "### Run all configurations\r\n",
        "nRep = 5 # Number of different initializations within one configuration\r\n",
        "\r\n",
        "startTime = time.perf_counter()\r\n",
        "\r\n",
        "logLik_comb_vec = torch.zeros(nComb, nRep, dtype = torch.float32).to(device)\r\n",
        "for i in range(nComb):\r\n",
        "    print(i, \"th iter starts...\")\r\n",
        "    numCluster0 = comb2[i].astype(int)\r\n",
        "    for j in range(nRep):\r\n",
        "        SE_rslt0 = SE.SECANT_CITE(data0, numCluster0, ADT_Lbl, init_seed=2020+j)\r\n",
        "        logLik_comb_vec[i, j] = SE_rslt0.logLik_final \r\n",
        "\r\n",
        "print('wall time {}'.format(time.perf_counter()-startTime))"
      ],
      "execution_count": 6,
      "outputs": [
        {
          "output_type": "stream",
          "text": [
            "0 th iter starts...\n",
            "1 th iter starts...\n",
            "2 th iter starts...\n",
            "3 th iter starts...\n",
            "4 th iter starts...\n",
            "5 th iter starts...\n",
            "6 th iter starts...\n",
            "7 th iter starts...\n",
            "8 th iter starts...\n",
            "9 th iter starts...\n",
            "10 th iter starts...\n",
            "11 th iter starts...\n",
            "12 th iter starts...\n",
            "13 th iter starts...\n",
            "14 th iter starts...\n",
            "15 th iter starts...\n",
            "16 th iter starts...\n",
            "17 th iter starts...\n",
            "18 th iter starts...\n",
            "19 th iter starts...\n",
            "20 th iter starts...\n",
            "21 th iter starts...\n",
            "22 th iter starts...\n",
            "23 th iter starts...\n",
            "24 th iter starts...\n",
            "25 th iter starts...\n",
            "26 th iter starts...\n",
            "27 th iter starts...\n",
            "28 th iter starts...\n",
            "29 th iter starts...\n",
            "30 th iter starts...\n",
            "31 th iter starts...\n",
            "32 th iter starts...\n",
            "33 th iter starts...\n",
            "34 th iter starts...\n",
            "35 th iter starts...\n",
            "36 th iter starts...\n",
            "37 th iter starts...\n",
            "38 th iter starts...\n",
            "39 th iter starts...\n",
            "40 th iter starts...\n",
            "41 th iter starts...\n",
            "42 th iter starts...\n",
            "43 th iter starts...\n",
            "44 th iter starts...\n",
            "45 th iter starts...\n",
            "46 th iter starts...\n",
            "47 th iter starts...\n",
            "48 th iter starts...\n",
            "49 th iter starts...\n",
            "50 th iter starts...\n",
            "51 th iter starts...\n",
            "52 th iter starts...\n",
            "53 th iter starts...\n",
            "54 th iter starts...\n",
            "55 th iter starts...\n",
            "56 th iter starts...\n",
            "57 th iter starts...\n",
            "58 th iter starts...\n",
            "59 th iter starts...\n",
            "60 th iter starts...\n",
            "61 th iter starts...\n",
            "62 th iter starts...\n",
            "63 th iter starts...\n",
            "64 th iter starts...\n",
            "65 th iter starts...\n",
            "66 th iter starts...\n",
            "67 th iter starts...\n",
            "68 th iter starts...\n",
            "69 th iter starts...\n",
            "70 th iter starts...\n",
            "71 th iter starts...\n",
            "72 th iter starts...\n",
            "73 th iter starts...\n",
            "74 th iter starts...\n",
            "75 th iter starts...\n",
            "76 th iter starts...\n",
            "77 th iter starts...\n",
            "78 th iter starts...\n",
            "79 th iter starts...\n",
            "80 th iter starts...\n",
            "81 th iter starts...\n",
            "82 th iter starts...\n",
            "83 th iter starts...\n",
            "84 th iter starts...\n",
            "85 th iter starts...\n",
            "86 th iter starts...\n",
            "87 th iter starts...\n",
            "88 th iter starts...\n",
            "89 th iter starts...\n",
            "90 th iter starts...\n",
            "91 th iter starts...\n",
            "92 th iter starts...\n",
            "93 th iter starts...\n",
            "94 th iter starts...\n",
            "95 th iter starts...\n",
            "96 th iter starts...\n",
            "97 th iter starts...\n",
            "98 th iter starts...\n",
            "99 th iter starts...\n",
            "100 th iter starts...\n",
            "101 th iter starts...\n",
            "102 th iter starts...\n",
            "103 th iter starts...\n",
            "104 th iter starts...\n",
            "105 th iter starts...\n",
            "106 th iter starts...\n",
            "107 th iter starts...\n",
            "108 th iter starts...\n",
            "109 th iter starts...\n",
            "110 th iter starts...\n",
            "111 th iter starts...\n",
            "112 th iter starts...\n",
            "113 th iter starts...\n",
            "114 th iter starts...\n",
            "115 th iter starts...\n",
            "116 th iter starts...\n",
            "117 th iter starts...\n",
            "118 th iter starts...\n",
            "119 th iter starts...\n",
            "120 th iter starts...\n",
            "121 th iter starts...\n",
            "122 th iter starts...\n",
            "123 th iter starts...\n",
            "124 th iter starts...\n",
            "125 th iter starts...\n",
            "126 th iter starts...\n",
            "127 th iter starts...\n",
            "128 th iter starts...\n",
            "129 th iter starts...\n",
            "130 th iter starts...\n",
            "131 th iter starts...\n",
            "132 th iter starts...\n",
            "133 th iter starts...\n",
            "134 th iter starts...\n",
            "135 th iter starts...\n",
            "136 th iter starts...\n",
            "137 th iter starts...\n",
            "138 th iter starts...\n",
            "139 th iter starts...\n",
            "140 th iter starts...\n",
            "141 th iter starts...\n",
            "142 th iter starts...\n",
            "143 th iter starts...\n",
            "144 th iter starts...\n",
            "145 th iter starts...\n",
            "146 th iter starts...\n",
            "147 th iter starts...\n",
            "148 th iter starts...\n",
            "149 th iter starts...\n",
            "150 th iter starts...\n",
            "151 th iter starts...\n",
            "152 th iter starts...\n",
            "153 th iter starts...\n",
            "154 th iter starts...\n",
            "155 th iter starts...\n",
            "156 th iter starts...\n",
            "157 th iter starts...\n",
            "158 th iter starts...\n",
            "159 th iter starts...\n",
            "160 th iter starts...\n",
            "161 th iter starts...\n",
            "162 th iter starts...\n",
            "163 th iter starts...\n",
            "164 th iter starts...\n",
            "165 th iter starts...\n",
            "166 th iter starts...\n",
            "167 th iter starts...\n",
            "168 th iter starts...\n",
            "169 th iter starts...\n",
            "170 th iter starts...\n",
            "171 th iter starts...\n",
            "172 th iter starts...\n",
            "173 th iter starts...\n",
            "174 th iter starts...\n",
            "175 th iter starts...\n",
            "176 th iter starts...\n",
            "177 th iter starts...\n",
            "178 th iter starts...\n",
            "179 th iter starts...\n",
            "180 th iter starts...\n",
            "181 th iter starts...\n",
            "182 th iter starts...\n",
            "183 th iter starts...\n",
            "184 th iter starts...\n",
            "185 th iter starts...\n",
            "186 th iter starts...\n",
            "187 th iter starts...\n",
            "188 th iter starts...\n",
            "189 th iter starts...\n",
            "190 th iter starts...\n",
            "191 th iter starts...\n",
            "192 th iter starts...\n",
            "193 th iter starts...\n",
            "194 th iter starts...\n",
            "195 th iter starts...\n",
            "196 th iter starts...\n",
            "197 th iter starts...\n",
            "198 th iter starts...\n",
            "199 th iter starts...\n",
            "200 th iter starts...\n",
            "201 th iter starts...\n",
            "202 th iter starts...\n",
            "203 th iter starts...\n",
            "204 th iter starts...\n",
            "205 th iter starts...\n",
            "206 th iter starts...\n",
            "207 th iter starts...\n",
            "208 th iter starts...\n",
            "209 th iter starts...\n",
            "wall time 5314.947848971\n"
          ],
          "name": "stdout"
        }
      ]
    },
    {
      "cell_type": "code",
      "metadata": {
        "id": "jpWZR3M34o8S",
        "colab": {
          "base_uri": "https://localhost:8080/"
        },
        "outputId": "9c734a0a-9b75-4503-ac66-cd9ab93a699f"
      },
      "source": [
        "# Search for maximum log-likelihood\r\n",
        "bestConfig_index = (logLik_comb_vec==torch.max(logLik_comb_vec)).nonzero()[0][0]\r\n",
        "bestConfig_index"
      ],
      "execution_count": 11,
      "outputs": [
        {
          "output_type": "execute_result",
          "data": {
            "text/plain": [
              "tensor(116, device='cuda:0')"
            ]
          },
          "metadata": {
            "tags": []
          },
          "execution_count": 11
        }
      ]
    },
    {
      "cell_type": "code",
      "metadata": {
        "id": "wclq4vkm4sEZ",
        "colab": {
          "base_uri": "https://localhost:8080/"
        },
        "outputId": "f00fccbe-4c56-46db-a0e4-f0da996983be"
      },
      "source": [
        "# Best configuration\r\n",
        "comb2[bestConfig_index].astype(int)"
      ],
      "execution_count": 12,
      "outputs": [
        {
          "output_type": "execute_result",
          "data": {
            "text/plain": [
              "array([2, 2, 3, 3, 1])"
            ]
          },
          "metadata": {
            "tags": []
          },
          "execution_count": 12
        }
      ]
    },
    {
      "cell_type": "code",
      "metadata": {
        "id": "XBHxKIUl4tlL",
        "colab": {
          "base_uri": "https://localhost:8080/",
          "height": 282
        },
        "outputId": "d5034aac-dadb-4c2f-cf0e-a8a64e28ef41"
      },
      "source": [
        "### Boxplot of log-likelihood across all configurations\r\n",
        "logLikMtx = logLik_comb_vec.cpu().data.numpy()\r\n",
        "logLikMtx_pd = pd.DataFrame(logLikMtx)\r\n",
        "logLikMtx_pd.T.boxplot()"
      ],
      "execution_count": 9,
      "outputs": [
        {
          "output_type": "execute_result",
          "data": {
            "text/plain": [
              "<matplotlib.axes._subplots.AxesSubplot at 0x7f641d51f250>"
            ]
          },
          "metadata": {
            "tags": []
          },
          "execution_count": 9
        },
        {
          "output_type": "display_data",
          "data": {
            "image/png": "[encoded data removed]",
            "text/plain": [
              "<Figure size 432x288 with 1 Axes>"
            ]
          },
          "metadata": {
            "tags": [],
            "needs_background": "light"
          }
        }
      ]
    }
  ]
}