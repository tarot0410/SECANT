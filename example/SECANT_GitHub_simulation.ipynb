{
  "nbformat": 4,
  "nbformat_minor": 0,
  "metadata": {
    "colab": {
      "name": "SECANT_GitHub_simulation.ipynb",
      "provenance": [],
      "collapsed_sections": []
    },
    "kernelspec": {
      "name": "python3",
      "display_name": "Python 3"
    },
    "accelerator": "GPU"
  },
  "cells": [
    {
      "cell_type": "markdown",
      "metadata": {
        "id": "F8WxMwgodZvL"
      },
      "source": [
        "### Install SECANT from GitHub\r\n",
        "##### - Before running, make sure runtime has been set to GPU"
      ]
    },
    {
      "cell_type": "code",
      "metadata": {
        "id": "G7ZKJxvigHZb",
        "colab": {
          "base_uri": "https://localhost:8080/"
        },
        "outputId": "62e6e1e9-e4bd-4772-9a5e-2d02f92f3d56"
      },
      "source": [
        "!pip install git+https://github.com/tarot0410/SECANT.git -q"
      ],
      "execution_count": 1,
      "outputs": [
        {
          "output_type": "stream",
          "text": [
            "  Building wheel for SECANT (setup.py) ... \u001b[?25l\u001b[?25hdone\n"
          ],
          "name": "stdout"
        }
      ]
    },
    {
      "cell_type": "markdown",
      "metadata": {
        "id": "4jWg19A1c1jr"
      },
      "source": [
        "### Import packages"
      ]
    },
    {
      "cell_type": "code",
      "metadata": {
        "id": "NiFXL4jId5Op"
      },
      "source": [
        "from SECANT import SECANT as SE\n",
        "import torch\n",
        "import torch.distributions as dist\n",
        "import matplotlib.pyplot as plt\n",
        "import numpy as np\n",
        "import pandas as pd\n",
        "from sklearn.metrics.cluster import adjusted_rand_score\n",
        "from sklearn.metrics.cluster import adjusted_mutual_info_score\n",
        "import time\n",
        "from sklearn.mixture import GaussianMixture\n",
        "from sklearn.cluster import KMeans\n",
        "\n",
        "if torch.cuda.is_available():  \n",
        "  dev = \"cuda:0\" \n",
        "else:  \n",
        "  dev = \"cpu\"  \n",
        "device = torch.device(dev) "
      ],
      "execution_count": 2,
      "outputs": []
    },
    {
      "cell_type": "markdown",
      "metadata": {
        "id": "mPHc-Hw31-0S"
      },
      "source": [
        "### Functions for data simulation and assessing performance"
      ]
    },
    {
      "cell_type": "code",
      "metadata": {
        "id": "gdnHGO1F2Gi1"
      },
      "source": [
        "# Function for simulating data \r\n",
        "def simulateData(N, tauVec_sim_ls, muMtx_sim, scale3D_sim, random_seed):\r\n",
        "    torch.manual_seed(random_seed) \r\n",
        "    np.random.seed(random_seed)\r\n",
        "\r\n",
        "    K = len(tauVec_sim_ls)\r\n",
        "    n_vec = dist.Multinomial(N, torch.tensor(tauVec_sim_ls)).sample()\r\n",
        "    n_vec = list(map(int, n_vec.tolist()))\r\n",
        "    \r\n",
        "    # Generate data from MVN\r\n",
        "    mvn_vec = [dist.MultivariateNormal(loc = muMtx_sim[i], scale_tril=scale3D_sim[i]) for i in range(K)]\r\n",
        "    X = mvn_vec[0].sample(sample_shape = torch.Size([n_vec[0]]))\r\n",
        "    for i in range(1, K):\r\n",
        "        X0 = mvn_vec[i].sample(sample_shape = torch.Size([n_vec[i]]))\r\n",
        "        X = torch.cat((X,X0), 0)\r\n",
        "\r\n",
        "    # Generate true cluster label \r\n",
        "    clusterLbl_np = np.repeat(np.arange(K), n_vec)\r\n",
        "\r\n",
        "    return X, clusterLbl_np, n_vec\r\n",
        "\r\n",
        "def genADTLbl(con_config, n_vec, p_un, N):\r\n",
        "    # Generate true label \r\n",
        "    nCls = len(con_config) \r\n",
        "    nCls_sub = [sum(n_vec[0:con_config[0]])]\r\n",
        "    temp_start = con_config[0]\r\n",
        "    for i in range(1, nCls):\r\n",
        "        nCls0 = con_config[i]\r\n",
        "        nCls_sub.append(sum(n_vec[temp_start:(temp_start+nCls0)]))\r\n",
        "        temp_start += nCls0\r\n",
        "\r\n",
        "    cls_np = np.repeat(np.arange(nCls), nCls_sub) \r\n",
        "    flip_ind = np.random.binomial(1, p_un, N)\r\n",
        "    cls_np[flip_ind==1] = nCls\r\n",
        "    return cls_np\r\n",
        "\r\n",
        "def runSimOne(N, p_un_ls, tauVec_sim_ls, muMtx_sim, scale3D_sim, con_config, random_seed):\r\n",
        "    data0, clusterLbl_np, n_vec = simulateData(N, tauVec_sim_ls, muMtx_sim, scale3D_sim, random_seed)\r\n",
        "    data0_cpu = data0.cpu()\r\n",
        "    K = sum(con_config)\r\n",
        "\r\n",
        "    outLS_ARI = [None] * (len(p_un_ls)+2)\r\n",
        "    outLS_AMI = outLS_ARI.copy()\r\n",
        "\r\n",
        "    # Run new method (0, one data case)\r\n",
        "    for i in range(len(p_un_ls)):\r\n",
        "        p_un = p_un_ls[i]\r\n",
        "        cls_np = genADTLbl(con_config, n_vec, p_un, N)\r\n",
        "        cls_tt = torch.tensor(cls_np, device = device)\r\n",
        "\r\n",
        "        uncertainLbl = True\r\n",
        "        if p_un == 0:\r\n",
        "            uncertainLbl = False\r\n",
        "        SE_rslt = SE.SECANT_CITE(data0, con_config, cls_tt, uncertain=uncertainLbl)\r\n",
        "        lbl_out = SE_rslt.lbl\r\n",
        "        outLS_ARI[i]= adjusted_rand_score(lbl_out.cpu().numpy(), clusterLbl_np)\r\n",
        "        outLS_AMI[i]= adjusted_mutual_info_score(lbl_out.cpu().numpy(), clusterLbl_np)\r\n",
        "\r\n",
        "    # Run GMM\r\n",
        "    gmm = GaussianMixture(n_components=K, random_state=random_seed).fit(data0_cpu)\r\n",
        "    gmm_lbl = gmm.predict(data0_cpu)\r\n",
        "    outLS_ARI[4] = adjusted_rand_score(gmm_lbl, clusterLbl_np)\r\n",
        "    outLS_AMI[4] = adjusted_mutual_info_score(gmm_lbl, clusterLbl_np)\r\n",
        "    \r\n",
        "    # Run Kmeans\r\n",
        "    np.random.seed(random_seed)\r\n",
        "    kmeans = KMeans(n_clusters=K)\r\n",
        "    kmeans.fit(data0_cpu)\r\n",
        "    kmeans_labels = kmeans.predict(data0_cpu)\r\n",
        "    outLS_ARI[5] = adjusted_rand_score(kmeans_labels, clusterLbl_np)\r\n",
        "    outLS_AMI[5] = adjusted_mutual_info_score(kmeans_labels, clusterLbl_np)\r\n",
        "\r\n",
        "    return outLS_ARI, outLS_AMI \r\n",
        "\r\n",
        "def runSimFull(N, p_un_ls, tauVec_sim_ls, muMtx_sim, scale3D_sim, con_config, nSim = 100):\r\n",
        "    mtxARI = np.zeros((nSim, len(p_un_ls)+2))\r\n",
        "    mtxAMI = np.zeros((nSim, len(p_un_ls)+2))\r\n",
        "    for i in range(nSim):\r\n",
        "        outLS_ARI, outLS_AMI = runSimOne(N, p_un_ls, tauVec_sim_ls, muMtx_sim, scale3D_sim, con_config, random_seed = i*10)\r\n",
        "        mtxARI[i,] = outLS_ARI\r\n",
        "        mtxAMI[i,] = outLS_AMI\r\n",
        "    return mtxARI, mtxAMI"
      ],
      "execution_count": 3,
      "outputs": []
    },
    {
      "cell_type": "markdown",
      "metadata": {
        "id": "UDblGwgUkRQI"
      },
      "source": [
        "### Run simulations for varying number of clusters (K) scenario"
      ]
    },
    {
      "cell_type": "code",
      "metadata": {
        "id": "LjLSxedD3lRA"
      },
      "source": [
        "N = 1000 # Sample size\r\n",
        "p_un_ls = [0., 0.2, 0.4, 0.6] # Uncertain rate in ADT label"
      ],
      "execution_count": 4,
      "outputs": []
    },
    {
      "cell_type": "markdown",
      "metadata": {
        "id": "V_rzd40Q9xmm"
      },
      "source": [
        "##### Need to link Google Drive and copy files in \"simulation_files\" folder"
      ]
    },
    {
      "cell_type": "code",
      "metadata": {
        "colab": {
          "base_uri": "https://localhost:8080/"
        },
        "id": "hTmgrYo48B1C",
        "outputId": "326c5b7e-52ad-48ed-c520-e1eed42ba24d"
      },
      "source": [
        "from google.colab import drive\r\n",
        "drive.mount('/content/drive')"
      ],
      "execution_count": 5,
      "outputs": [
        {
          "output_type": "stream",
          "text": [
            "Mounted at /content/drive\n"
          ],
          "name": "stdout"
        }
      ]
    },
    {
      "cell_type": "markdown",
      "metadata": {
        "id": "YL3weI64-0Jx"
      },
      "source": [
        "#### Scenario 1: 8 clusters"
      ]
    },
    {
      "cell_type": "code",
      "metadata": {
        "id": "PjUXFsPOCxoC",
        "colab": {
          "base_uri": "https://localhost:8080/"
        },
        "outputId": "414e8beb-25c6-4af8-dfc2-3642149a8b61"
      },
      "source": [
        "K = 8\r\n",
        "sim_config = [2,1,3,1,1]\r\n",
        "\r\n",
        "startTime = time.perf_counter()\r\n",
        "\r\n",
        "muMtx_sim = torch.load('./drive/My Drive/Revision_SECANT/Simulation/muMtx_D10_K' + str(K) + '.pt').to(device)\r\n",
        "scale3D_sim = torch.load('./drive/My Drive/Revision_SECANT/Simulation/scale3D_D10_K' + str(K) + '.pt').to(device)\r\n",
        "wgt_sim = torch.load('./drive/My Drive/Revision_SECANT/Simulation/wgt_D10_K' + str(K) + '.pt')\r\n",
        "tauVec_sim_ls = wgt_sim.cpu().tolist()\r\n",
        "\r\n",
        "mtxARI, mtxAMI = runSimFull(N, p_un_ls, tauVec_sim_ls, muMtx_sim, scale3D_sim, sim_config, nSim = 100)\r\n",
        "\r\n",
        "print('running time {}'.format(time.perf_counter()-startTime)) "
      ],
      "execution_count": 6,
      "outputs": [
        {
          "output_type": "stream",
          "text": [
            "running time 319.084938516\n"
          ],
          "name": "stdout"
        }
      ]
    },
    {
      "cell_type": "code",
      "metadata": {
        "colab": {
          "base_uri": "https://localhost:8080/",
          "height": 283
        },
        "id": "xXsyG_W4-t83",
        "outputId": "76300828-79e1-4b2c-89fe-6830c79fcfd5"
      },
      "source": [
        "### Plot boxplot \r\n",
        "# 0: SECANT (pU=0); 1: SECANT (pU=0.2); 2: SECANT (pU=0.4); 3: SECANT (pU=0.6); \r\n",
        "# 4: GMM; 5: K-means\r\n",
        "logLikMtx_pd = pd.DataFrame(mtxARI)\r\n",
        "logLikMtx_pd.boxplot(sym='')"
      ],
      "execution_count": 7,
      "outputs": [
        {
          "output_type": "execute_result",
          "data": {
            "text/plain": [
              "<matplotlib.axes._subplots.AxesSubplot at 0x7f8db015c290>"
            ]
          },
          "metadata": {
            "tags": []
          },
          "execution_count": 7
        },
        {
          "output_type": "display_data",
          "data": {
            "image/png": "[encoded data removed]",
            "text/plain": [
              "<Figure size 432x288 with 1 Axes>"
            ]
          },
          "metadata": {
            "tags": [],
            "needs_background": "light"
          }
        }
      ]
    },
    {
      "cell_type": "markdown",
      "metadata": {
        "id": "Un7_Yj_eAJdR"
      },
      "source": [
        "#### Scenario 2: 10 clusters"
      ]
    },
    {
      "cell_type": "code",
      "metadata": {
        "colab": {
          "base_uri": "https://localhost:8080/"
        },
        "id": "Wso0qddqALwg",
        "outputId": "5cbbd494-5209-48ad-c0e0-fb5da356d3e6"
      },
      "source": [
        "K = 10\r\n",
        "sim_config = [2,2,3,2,1]\r\n",
        "\r\n",
        "startTime = time.perf_counter()\r\n",
        "\r\n",
        "muMtx_sim = torch.load('./drive/My Drive/Revision_SECANT/Simulation/muMtx_D10_K' + str(K) + '.pt').to(device)\r\n",
        "scale3D_sim = torch.load('./drive/My Drive/Revision_SECANT/Simulation/scale3D_D10_K' + str(K) + '.pt').to(device)\r\n",
        "wgt_sim = torch.load('./drive/My Drive/Revision_SECANT/Simulation/wgt_D10_K' + str(K) + '.pt')\r\n",
        "tauVec_sim_ls = wgt_sim.cpu().tolist()\r\n",
        "\r\n",
        "mtxARI, mtxAMI = runSimFull(N, p_un_ls, tauVec_sim_ls, muMtx_sim, scale3D_sim, sim_config, nSim = 100)\r\n",
        "\r\n",
        "print('running time {}'.format(time.perf_counter()-startTime)) "
      ],
      "execution_count": 8,
      "outputs": [
        {
          "output_type": "stream",
          "text": [
            "running time 373.805457227\n"
          ],
          "name": "stdout"
        }
      ]
    },
    {
      "cell_type": "code",
      "metadata": {
        "colab": {
          "base_uri": "https://localhost:8080/",
          "height": 285
        },
        "id": "Oi3TF9elAMwZ",
        "outputId": "334944f5-cb97-4618-b708-c3f8b85bf3c5"
      },
      "source": [
        "### Plot boxplot \r\n",
        "# 0: SECANT (pU=0); 1: SECANT (pU=0.2); 2: SECANT (pU=0.4); 3: SECANT (pU=0.6); \r\n",
        "# 4: GMM; 5: K-means\r\n",
        "logLikMtx_pd = pd.DataFrame(mtxARI)\r\n",
        "logLikMtx_pd.boxplot(sym='')"
      ],
      "execution_count": 9,
      "outputs": [
        {
          "output_type": "execute_result",
          "data": {
            "text/plain": [
              "<matplotlib.axes._subplots.AxesSubplot at 0x7f8d53fd1c50>"
            ]
          },
          "metadata": {
            "tags": []
          },
          "execution_count": 9
        },
        {
          "output_type": "display_data",
          "data": {
            "image/png": "[encoded data removed]",
            "text/plain": [
              "<Figure size 432x288 with 1 Axes>"
            ]
          },
          "metadata": {
            "tags": [],
            "needs_background": "light"
          }
        }
      ]
    },
    {
      "cell_type": "markdown",
      "metadata": {
        "id": "Tp-C0vnTAUYV"
      },
      "source": [
        "#### Scenario 3: 12 clusters"
      ]
    },
    {
      "cell_type": "code",
      "metadata": {
        "colab": {
          "base_uri": "https://localhost:8080/"
        },
        "id": "LzKP_d2VAWgP",
        "outputId": "d5c0e3a4-2b52-48ec-9ce2-2bd93bdf231b"
      },
      "source": [
        "K = 12\r\n",
        "sim_config = [1,3,4,3,1]\r\n",
        "\r\n",
        "startTime = time.perf_counter()\r\n",
        "\r\n",
        "muMtx_sim = torch.load('./drive/My Drive/Revision_SECANT/Simulation/muMtx_D10_K' + str(K) + '.pt').to(device)\r\n",
        "scale3D_sim = torch.load('./drive/My Drive/Revision_SECANT/Simulation/scale3D_D10_K' + str(K) + '.pt').to(device)\r\n",
        "wgt_sim = torch.load('./drive/My Drive/Revision_SECANT/Simulation/wgt_D10_K' + str(K) + '.pt')\r\n",
        "tauVec_sim_ls = wgt_sim.cpu().tolist()\r\n",
        "\r\n",
        "mtxARI, mtxAMI = runSimFull(N, p_un_ls, tauVec_sim_ls, muMtx_sim, scale3D_sim, sim_config, nSim = 100)\r\n",
        "\r\n",
        "print('running time {}'.format(time.perf_counter()-startTime)) "
      ],
      "execution_count": 10,
      "outputs": [
        {
          "output_type": "stream",
          "text": [
            "running time 497.22279604799996\n"
          ],
          "name": "stdout"
        }
      ]
    },
    {
      "cell_type": "code",
      "metadata": {
        "colab": {
          "base_uri": "https://localhost:8080/",
          "height": 282
        },
        "id": "3iNt5BS3AXQf",
        "outputId": "8816d3c8-b75f-40a8-fc00-9b77f1ea5a80"
      },
      "source": [
        "### Plot boxplot \r\n",
        "# 0: SECANT (pU=0); 1: SECANT (pU=0.2); 2: SECANT (pU=0.4); 3: SECANT (pU=0.6); \r\n",
        "# 4: GMM; 5: K-means\r\n",
        "logLikMtx_pd = pd.DataFrame(mtxARI)\r\n",
        "logLikMtx_pd.boxplot(sym='')"
      ],
      "execution_count": 11,
      "outputs": [
        {
          "output_type": "execute_result",
          "data": {
            "text/plain": [
              "<matplotlib.axes._subplots.AxesSubplot at 0x7f8d53abc7d0>"
            ]
          },
          "metadata": {
            "tags": []
          },
          "execution_count": 11
        },
        {
          "output_type": "display_data",
          "data": {
            "image/png": "[encoded data removed]",
            "text/plain": [
              "<Figure size 432x288 with 1 Axes>"
            ]
          },
          "metadata": {
            "tags": [],
            "needs_background": "light"
          }
        }
      ]
    }
  ]
}