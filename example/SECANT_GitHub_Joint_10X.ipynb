{
  "nbformat": 4,
  "nbformat_minor": 0,
  "metadata": {
    "colab": {
      "name": "SECANT_GitHub_Joint_10X.ipynb",
      "provenance": [],
      "collapsed_sections": []
    },
    "kernelspec": {
      "name": "python3",
      "display_name": "Python 3"
    },
    "accelerator": "GPU"
  },
  "cells": [
    {
      "cell_type": "markdown",
      "metadata": {
        "id": "F8WxMwgodZvL"
      },
      "source": [
        "### Install SECANT from GitHub\r\n",
        "##### - Before running, make sure runtime has been set to GPU"
      ]
    },
    {
      "cell_type": "code",
      "metadata": {
        "id": "G7ZKJxvigHZb",
        "colab": {
          "base_uri": "https://localhost:8080/"
        },
        "outputId": "f37a8bd4-62c5-4929-9c4d-bae52d274fe9"
      },
      "source": [
        "!pip install git+https://github.com/tarot0410/SECANT.git -q"
      ],
      "execution_count": 1,
      "outputs": [
        {
          "output_type": "stream",
          "text": [
            "  Building wheel for SECANT (setup.py) ... \u001b[?25l\u001b[?25hdone\n"
          ],
          "name": "stdout"
        }
      ]
    },
    {
      "cell_type": "markdown",
      "metadata": {
        "id": "4jWg19A1c1jr"
      },
      "source": [
        "### Import packages"
      ]
    },
    {
      "cell_type": "code",
      "metadata": {
        "id": "NiFXL4jId5Op"
      },
      "source": [
        "from SECANT import SECANT as SE\n",
        "import torch\n",
        "import numpy as np\n",
        "import pandas as pd\n",
        "import umap.umap_ as umap\n",
        "import matplotlib.pyplot as plt"
      ],
      "execution_count": 2,
      "outputs": []
    },
    {
      "cell_type": "markdown",
      "metadata": {
        "id": "O23p5XsbdYMt"
      },
      "source": [
        "### Mount Google Drive for accessing external data"
      ]
    },
    {
      "cell_type": "code",
      "metadata": {
        "id": "39ASG_JdBSpS"
      },
      "source": [
        "# from google.colab import drive\r\n",
        "# drive.mount('/content/drive')"
      ],
      "execution_count": 3,
      "outputs": []
    },
    {
      "cell_type": "markdown",
      "metadata": {
        "id": "n96ry6IOpIPC"
      },
      "source": [
        "### Joint analyzing 10X10k_PBMC (CITE-seq) and 10X5k_PBMC (mimic scRNA-seq) data"
      ]
    },
    {
      "cell_type": "code",
      "metadata": {
        "colab": {
          "base_uri": "https://localhost:8080/"
        },
        "id": "2ERYpO5JdGPA",
        "outputId": "8093b89f-7625-43f3-f7b3-c999ea18b477"
      },
      "source": [
        "url = 'https://raw.githubusercontent.com/tarot0410/SECANT/main/real_data/Joint_10X/'\r\n",
        "### Load in ADT confident cell type label\r\n",
        "# ADT data from 10X10k (CITE-seq input)\r\n",
        "ADT_df0 = pd.read_csv(url + 'label_10X10k.csv')\r\n",
        "ADT_Lbl0 = SE.df_to_tensor(ADT_df0)[:,0]   \r\n",
        "ADT_Lbl0 = ADT_Lbl0 - 1 # make sure values in ADT_Lbl0 range from 0, and the maximum value refers to \"uncertain\" group\r\n",
        "# Check uncertain rate in the given ADT label\r\n",
        "print('P(uncertain|ADT0)=', round(sum(ADT_Lbl0.cpu().numpy()==int(torch.max(ADT_Lbl0)))/ADT_Lbl0.size(0),3))\r\n",
        "\r\n",
        "# ADT data from 10X5k (mimic scRNA-seq input)\r\n",
        "# labels are not used for fitting SECANT, but for assessing prediction performance only\r\n",
        "ADT_df1 = pd.read_csv(url + 'label_10X5k.csv')\r\n",
        "ADT_Lbl1 = SE.df_to_tensor(ADT_df1)[:,0]   \r\n",
        "ADT_Lbl1 = ADT_Lbl1 - 1 # make sure values in ADT_Lbl1 range from 0, and the maximum value refers to \"uncertain\" group\r\n",
        "# Check uncertain rate in the given ADT label\r\n",
        "print('P(uncertain|ADT1)=', round(sum(ADT_Lbl1.cpu().numpy()==int(torch.max(ADT_Lbl1)))/ADT_Lbl1.size(0),3))\r\n",
        "\r\n",
        "### Load in RNA data (after dimension reduction)\r\n",
        "# RNA data from 10X10k\r\n",
        "RNA_df0 = pd.read_csv(url + 'latent_10k.csv')\r\n",
        "RNA_df0.drop(RNA_df0.columns[[0]], axis=1, inplace=True) # drop index column\r\n",
        "data0 = SE.df_to_tensor(RNA_df0) # convert data matrix df to tensor\r\n",
        "print('#cells|RNA0=', data0.size(0))\r\n",
        "print('#features|RNA0=', data0.size(1))\r\n",
        "\r\n",
        "# RNA data from 10X5k\r\n",
        "RNA_df1 = pd.read_csv(url + 'latent_5k.csv')\r\n",
        "RNA_df1.drop(RNA_df1.columns[[0]], axis=1, inplace=True) # drop index column\r\n",
        "data1 = SE.df_to_tensor(RNA_df1) # convert data matrix df to tensor\r\n",
        "print('#cells|RNA1=', data1.size(0))\r\n",
        "print('#features|RNA1=', data1.size(1))"
      ],
      "execution_count": 4,
      "outputs": [
        {
          "output_type": "stream",
          "text": [
            "P(uncertain|ADT0)= 0.163\n",
            "P(uncertain|ADT1)= 0.115\n",
            "#cells|RNA0= 7865\n",
            "#features|RNA0= 10\n",
            "#cells|RNA1= 5527\n",
            "#features|RNA1= 10\n"
          ],
          "name": "stdout"
        }
      ]
    },
    {
      "cell_type": "markdown",
      "metadata": {
        "id": "SU-N_MXSwEg2"
      },
      "source": [
        "### Visualization of pooled RNA data after batch effect correction"
      ]
    },
    {
      "cell_type": "code",
      "metadata": {
        "id": "Qn_inKPbwG-3"
      },
      "source": [
        "# Set up UMAP\r\n",
        "N0 = data0.size()[0]\r\n",
        "N1 = data1.size()[0]\r\n",
        "data_pool = torch.cat((data0, data1), 0)\r\n",
        "batchLbl = np.concatenate((np.zeros(N0), np.ones(N1)))"
      ],
      "execution_count": 5,
      "outputs": []
    },
    {
      "cell_type": "code",
      "metadata": {
        "id": "E3PJ22J-wIGg"
      },
      "source": [
        "reducer = umap.UMAP(random_state=42)\r\n",
        "embedding0 = reducer.fit_transform(data_pool.cpu())"
      ],
      "execution_count": 6,
      "outputs": []
    },
    {
      "cell_type": "code",
      "metadata": {
        "colab": {
          "base_uri": "https://localhost:8080/",
          "height": 265
        },
        "id": "iaIXA3M_wJGA",
        "outputId": "42a742dc-74ab-4c7b-aaa4-87979a7d9cd1"
      },
      "source": [
        "scatter0 = plt.scatter(embedding0[:, 0],\r\n",
        "            embedding0[:, 1],\r\n",
        "            c=batchLbl, s=0.1, cmap='coolwarm')\r\n",
        "mylabel0=('10X10k', '10X5k')\r\n",
        "legend0 = plt.legend(handles=scatter0.legend_elements()[0],labels=mylabel0,loc=\"best\", title=\"Batch\", fontsize=\"medium\")"
      ],
      "execution_count": 9,
      "outputs": [
        {
          "output_type": "display_data",
          "data": {
            "image/png": "[encoded data removed]",
            "text/plain": [
              "<Figure size 432x288 with 1 Axes>"
            ]
          },
          "metadata": {
            "tags": [],
            "needs_background": "light"
          }
        }
      ]
    },
    {
      "cell_type": "markdown",
      "metadata": {
        "id": "UDblGwgUkRQI"
      },
      "source": [
        "### Run SECANT"
      ]
    },
    {
      "cell_type": "code",
      "metadata": {
        "id": "PjUXFsPOCxoC"
      },
      "source": [
        "### Input one configuration of concordance matrix\r\n",
        "# Example: {B:2; CD14+ Mono:2; CD4+ T:3; CD8+ T:3; NK:1}\r\n",
        "# Determine based on prior knowledge or data-driven (check 'Search_Best_Config' section)\r\n",
        "concordance_config = [2,2,3,3,1] \r\n",
        "\r\n",
        "### Main function to run SECANT\r\n",
        "SE_rslt = SE.SECANT_JOINT(data0, data1, concordance_config, ADT_Lbl0)\r\n",
        "\r\n",
        "### Core outputs\r\n",
        "# predicted confident cell type for 10X5k (mimic scRNA-seq data)\r\n",
        "ADT_type_predict = SE_rslt.lbl_predict\r\n",
        "# cluster labels\r\n",
        "lbl0 = SE_rslt.lbl0 # for 10X10k (CITE-seq input)\r\n",
        "lbl1 = SE_rslt.lbl1 # for 10X5k (scRNA-seq input)\r\n",
        "# concordance matrix\r\n",
        "conMtxFinal = SE_rslt.conMtxFinal \r\n",
        "# cluster weights\r\n",
        "wgt0 = SE_rslt.wgt0_out\r\n",
        "wgt1 = SE_rslt.wgt1_out\r\n",
        "# posterior probability of ADT confident cell type prediction (for 10X5k)\r\n",
        "preditADT_postP = SE_rslt.preditADT_post\r\n",
        "# final converged log-likelihood\r\n",
        "logLik_final = SE_rslt.logLik_final \r\n",
        "\r\n",
        "### Estimated distribution parameters\r\n",
        "# cluster-specific mean vector\r\n",
        "mu_out = SE_rslt.mu_out\r\n",
        "# cluster-specific covariance matrix\r\n",
        "scale_out = SE_rslt.scale3D_out\r\n",
        "scale_out_t = scale_out.permute(0,2,1)\r\n",
        "cov_out = scale_out @ scale_out_t"
      ],
      "execution_count": 13,
      "outputs": []
    },
    {
      "cell_type": "markdown",
      "metadata": {
        "id": "HGV3HmE0yVmp"
      },
      "source": [
        "### Check SECANT results"
      ]
    },
    {
      "cell_type": "code",
      "metadata": {
        "colab": {
          "base_uri": "https://localhost:8080/",
          "height": 282
        },
        "id": "8f_PC-yVutsr",
        "outputId": "1f355900-5438-4574-cfd2-23a57f7701cc"
      },
      "source": [
        "### Check convergence of log-likelihoods\r\n",
        "# log-likelihoods across all iterations\r\n",
        "logLik_vec = SE_rslt.logLikVec \r\n",
        "logLik_vec_final = logLik_vec[logLik_vec != 0] \r\n",
        "plt.plot(logLik_vec_final)"
      ],
      "execution_count": 11,
      "outputs": [
        {
          "output_type": "execute_result",
          "data": {
            "text/plain": [
              "[<matplotlib.lines.Line2D at 0x7fccd8b2c4d0>]"
            ]
          },
          "metadata": {
            "tags": []
          },
          "execution_count": 11
        },
        {
          "output_type": "display_data",
          "data": {
            "image/png": "[encoded data removed]",
            "text/plain": [
              "<Figure size 432x288 with 1 Axes>"
            ]
          },
          "metadata": {
            "tags": [],
            "needs_background": "light"
          }
        }
      ]
    },
    {
      "cell_type": "code",
      "metadata": {
        "colab": {
          "base_uri": "https://localhost:8080/"
        },
        "id": "Fd_U_EwHya4a",
        "outputId": "f79fbbad-6867-497d-dd2e-741309879833"
      },
      "source": [
        "### Concordance matrix and cluster weights\r\n",
        "print('Concordance matrix:')\r\n",
        "print(np.around(conMtxFinal.cpu().data.numpy(),3))\r\n",
        "print('')\r\n",
        "print('Cluster weights_data0:')\r\n",
        "print(np.around(wgt0.cpu().data.numpy(),3))\r\n",
        "print('')\r\n",
        "print('Cluster weights_data1:')\r\n",
        "print(np.around(wgt1.cpu().data.numpy(),3))"
      ],
      "execution_count": 12,
      "outputs": [
        {
          "output_type": "stream",
          "text": [
            "Concordance matrix:\n",
            "[[0.329 0.962 0.    0.    0.    0.    0.    0.    0.    0.    0.   ]\n",
            " [0.    0.    0.177 0.874 0.    0.    0.    0.    0.    0.    0.   ]\n",
            " [0.    0.    0.    0.    0.986 0.832 0.905 0.    0.    0.    0.   ]\n",
            " [0.    0.    0.    0.    0.    0.    0.    0.76  0.877 0.763 0.   ]\n",
            " [0.    0.    0.    0.    0.    0.    0.    0.    0.    0.    0.876]\n",
            " [0.671 0.038 0.823 0.126 0.014 0.168 0.095 0.24  0.123 0.237 0.124]]\n",
            "\n",
            "Cluster weights_data0:\n",
            "[0.04  0.067 0.05  0.227 0.158 0.006 0.154 0.077 0.052 0.05  0.119]\n",
            "\n",
            "Cluster weights_data1:\n",
            "[0.028 0.059 0.08  0.201 0.144 0.201 0.128 0.071 0.019 0.004 0.064]\n"
          ],
          "name": "stdout"
        }
      ]
    },
    {
      "cell_type": "code",
      "metadata": {
        "colab": {
          "base_uri": "https://localhost:8080/"
        },
        "id": "r5Jj39RCk6l3",
        "outputId": "4ffb0d8b-a18c-499d-9cff-2d98c89908d6"
      },
      "source": [
        "# show confusion matrix\r\n",
        "confTab = pd.crosstab(ADT_type_predict.cpu().data.numpy(), ADT_Lbl1.cpu().numpy(),\r\n",
        "                      rownames = [\"predict\"], colnames = [\"observed\"])\r\n",
        "print(confTab)\r\n",
        "confMtx = np.array(confTab)\r\n",
        "subMtx = confMtx[0:-1, 0:-1]\r\n",
        "subMtx2 = confMtx[:, 0:-1]\r\n",
        "accuracy = np.diagonal(subMtx).sum() / subMtx2.sum()\r\n",
        "\r\n",
        "print(\"\")\r\n",
        "print(\"Accuracy (excluding observed uncertain group)=\", accuracy)"
      ],
      "execution_count": 16,
      "outputs": [
        {
          "output_type": "stream",
          "text": [
            "observed  0.0   1.0   2.0  3.0  4.0  5.0\n",
            "predict                                 \n",
            "0         305     0     0    0    0   26\n",
            "1           1  1087    19    0    0   28\n",
            "2           0    33  2349  122    4  117\n",
            "3           0     0    66  338    1  109\n",
            "4           1     0    10    7  280   60\n",
            "5          22   186    43    4   12  297\n",
            "\n",
            "Accuracy (excluding observed uncertain group)= 0.8914110429447852\n"
          ],
          "name": "stdout"
        }
      ]
    }
  ]
}