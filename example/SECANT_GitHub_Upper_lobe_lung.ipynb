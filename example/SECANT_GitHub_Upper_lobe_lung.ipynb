{
  "nbformat": 4,
  "nbformat_minor": 0,
  "metadata": {
    "colab": {
      "name": "SECANT_GitHub_Upper_lobe_lung.ipynb",
      "provenance": [],
      "collapsed_sections": []
    },
    "kernelspec": {
      "name": "python3",
      "display_name": "Python 3"
    },
    "accelerator": "GPU"
  },
  "cells": [
    {
      "cell_type": "markdown",
      "metadata": {
        "id": "F8WxMwgodZvL"
      },
      "source": [
        "### Install SECANT from GitHub\r\n",
        "##### - Before running, make sure runtime has been set to GPU"
      ]
    },
    {
      "cell_type": "code",
      "metadata": {
        "id": "G7ZKJxvigHZb",
        "colab": {
          "base_uri": "https://localhost:8080/"
        },
        "outputId": "0c4aa233-d6f4-4b79-b6ca-f455f290c370"
      },
      "source": [
        "!pip install git+https://github.com/tarot0410/SECANT.git -q"
      ],
      "execution_count": 1,
      "outputs": [
        {
          "output_type": "stream",
          "text": [
            "  Building wheel for SECANT (setup.py) ... \u001b[?25l\u001b[?25hdone\n"
          ],
          "name": "stdout"
        }
      ]
    },
    {
      "cell_type": "markdown",
      "metadata": {
        "id": "4jWg19A1c1jr"
      },
      "source": [
        "### Import packages"
      ]
    },
    {
      "cell_type": "code",
      "metadata": {
        "id": "NiFXL4jId5Op"
      },
      "source": [
        "from SECANT import SECANT as SE\n",
        "import torch\n",
        "import numpy as np\n",
        "import pandas as pd\n",
        "import umap.umap_ as umap\n",
        "import matplotlib.pyplot as plt"
      ],
      "execution_count": 2,
      "outputs": []
    },
    {
      "cell_type": "markdown",
      "metadata": {
        "id": "O23p5XsbdYMt"
      },
      "source": [
        "### Mount Google Drive for accessing external data"
      ]
    },
    {
      "cell_type": "code",
      "metadata": {
        "id": "39ASG_JdBSpS"
      },
      "source": [
        "# from google.colab import drive\r\n",
        "# drive.mount('/content/drive')"
      ],
      "execution_count": null,
      "outputs": []
    },
    {
      "cell_type": "markdown",
      "metadata": {
        "id": "n96ry6IOpIPC"
      },
      "source": [
        "### Analyzing human bone marrow data (a subset of 10,000 cells from data in Seurat package)"
      ]
    },
    {
      "cell_type": "code",
      "metadata": {
        "colab": {
          "base_uri": "https://localhost:8080/"
        },
        "id": "2ERYpO5JdGPA",
        "outputId": "6c0a79ca-a72b-4443-f404-ef92ee89c9b6"
      },
      "source": [
        "### Load in ADT confident cell type label\r\n",
        "url = 'https://raw.githubusercontent.com/tarot0410/SECANT/main/real_data/Upper_lobe_lung/'\r\n",
        "ADT_df = pd.read_csv(url + 'label_lung.csv')\r\n",
        "ADT_Lbl = SE.df_to_tensor(ADT_df)[:,0]   \r\n",
        "ADT_Lbl = ADT_Lbl - 1 # make sure values in ADT_Lbl range from 0, and the maximum value refers to \"uncertain\" group\r\n",
        "# Check uncertain rate in the given ADT label\r\n",
        "print('P(uncertain)=', round(sum(ADT_Lbl.cpu().numpy()==int(torch.max(ADT_Lbl)))/ADT_Lbl.size(0),3))\r\n",
        "\r\n",
        "# Load in RNA data (after dimension reduction)\r\n",
        "RNA_df0 = pd.read_csv(url + 'Lung_latent.csv')\r\n",
        "RNA_df0.drop(RNA_df0.columns[[0]], axis=1, inplace=True) # drop index column\r\n",
        "data0 = SE.df_to_tensor(RNA_df0) # convert data matrix df to tensor\r\n",
        "print('#cells=', data0.size(0))\r\n",
        "print('#features=', data0.size(1))"
      ],
      "execution_count": 3,
      "outputs": [
        {
          "output_type": "stream",
          "text": [
            "P(uncertain)= 0.132\n",
            "#cells= 5451\n",
            "#features= 10\n"
          ],
          "name": "stdout"
        }
      ]
    },
    {
      "cell_type": "markdown",
      "metadata": {
        "id": "PbSIu0DvkNw4"
      },
      "source": [
        "### UMAP for visualization (ADT confident cell types)"
      ]
    },
    {
      "cell_type": "code",
      "metadata": {
        "id": "jMElcLcmZPEQ"
      },
      "source": [
        "# Set up UMAP\r\n",
        "reducer = umap.UMAP(random_state=50)\r\n",
        "embedding0 = reducer.fit_transform(data0.cpu())"
      ],
      "execution_count": 5,
      "outputs": []
    },
    {
      "cell_type": "code",
      "metadata": {
        "colab": {
          "base_uri": "https://localhost:8080/",
          "height": 265
        },
        "id": "hNUMtI46Yx8Z",
        "outputId": "3a43f502-52c9-4a09-c640-b4210929e55c"
      },
      "source": [
        "# Colored by ADT confident cell types\r\n",
        "scatter0 = plt.scatter(embedding0[:, 0],\r\n",
        "           embedding0[:, 1],\r\n",
        "           c=ADT_Lbl.cpu().numpy(), s=0.1, cmap='Spectral')\r\n",
        "mylabel0=('Epi', 'Endo', 'Immune', 'Uncertain')\r\n",
        "legend0 = plt.legend(handles=scatter0.legend_elements()[0], labels=mylabel0, loc=\"best\", title=\"Cell Types (ADT)\", fontsize=\"medium\", ncol=1, columnspacing = 0.01, handlelength =1.5, handletextpad =0.1)"
      ],
      "execution_count": 12,
      "outputs": [
        {
          "output_type": "display_data",
          "data": {
            "image/png": "[encoded data removed]",
            "text/plain": [
              "<Figure size 432x288 with 1 Axes>"
            ]
          },
          "metadata": {
            "tags": [],
            "needs_background": "light"
          }
        }
      ]
    },
    {
      "cell_type": "markdown",
      "metadata": {
        "id": "UDblGwgUkRQI"
      },
      "source": [
        "### Run SECANT"
      ]
    },
    {
      "cell_type": "code",
      "metadata": {
        "id": "PjUXFsPOCxoC"
      },
      "source": [
        "### Input one configuration of concordance matrix\r\n",
        "# Example: {Epi:1; Endo:1; Immune:5}\r\n",
        "# Determine based on prior knowledge or data-driven (check 'Search_Best_Config' section)\r\n",
        "concordance_config = [1,1,4]\r\n",
        "\r\n",
        "### Main function to run SECANT\r\n",
        "SE_rslt = SE.SECANT_CITE(data0, concordance_config, ADT_Lbl)\r\n",
        "\r\n",
        "### Core outputs\r\n",
        "# cluster labels\r\n",
        "lbl_out = SE_rslt.lbl\r\n",
        "# concordance matrix\r\n",
        "conMtxFinal = SE_rslt.conMtxFinal \r\n",
        "# cluster weights\r\n",
        "wgt_out = SE_rslt.wgt_out\r\n",
        "# final converged log-likelihood\r\n",
        "logLik_final = SE_rslt.logLik_final \r\n",
        "\r\n",
        "### Estimated distribution parameters\r\n",
        "# cluster-specific mean vector\r\n",
        "mu_out = SE_rslt.mu_out\r\n",
        "# cluster-specific covariance matrix\r\n",
        "scale_out = SE_rslt.scale3D_out\r\n",
        "scale_out_t = scale_out.permute(0,2,1)\r\n",
        "cov_out = scale_out @ scale_out_t"
      ],
      "execution_count": 16,
      "outputs": []
    },
    {
      "cell_type": "markdown",
      "metadata": {
        "id": "HGV3HmE0yVmp"
      },
      "source": [
        "### Check SECANT results"
      ]
    },
    {
      "cell_type": "code",
      "metadata": {
        "colab": {
          "base_uri": "https://localhost:8080/",
          "height": 282
        },
        "id": "8f_PC-yVutsr",
        "outputId": "4f0c0158-9d28-49a7-eac5-fee97671d6bf"
      },
      "source": [
        "### Check convergence of log-likelihoods\r\n",
        "# log-likelihoods across all iterations\r\n",
        "logLik_vec = SE_rslt.logLikVec \r\n",
        "logLik_vec_final = logLik_vec[logLik_vec != 0] \r\n",
        "plt.plot(logLik_vec_final)"
      ],
      "execution_count": 17,
      "outputs": [
        {
          "output_type": "execute_result",
          "data": {
            "text/plain": [
              "[<matplotlib.lines.Line2D at 0x7fcd94212610>]"
            ]
          },
          "metadata": {
            "tags": []
          },
          "execution_count": 17
        },
        {
          "output_type": "display_data",
          "data": {
            "image/png": "[encoded data removed]",
            "text/plain": [
              "<Figure size 432x288 with 1 Axes>"
            ]
          },
          "metadata": {
            "tags": [],
            "needs_background": "light"
          }
        }
      ]
    },
    {
      "cell_type": "code",
      "metadata": {
        "colab": {
          "base_uri": "https://localhost:8080/"
        },
        "id": "Fd_U_EwHya4a",
        "outputId": "6553c661-20c6-4baa-fc3d-c3f0b3a1a8e8"
      },
      "source": [
        "### Concordance matrix and cluster weights\r\n",
        "print('Concordance matrix:')\r\n",
        "print(np.around(conMtxFinal.cpu().data.numpy(),3))\r\n",
        "print('')\r\n",
        "print('Cluster weights:')\r\n",
        "print(np.around(wgt_out.cpu().data.numpy(),3))"
      ],
      "execution_count": 18,
      "outputs": [
        {
          "output_type": "stream",
          "text": [
            "Concordance matrix:\n",
            "[[0.993 0.    0.    0.    0.    0.   ]\n",
            " [0.    0.976 0.    0.    0.    0.   ]\n",
            " [0.    0.    0.794 0.896 0.805 0.827]\n",
            " [0.007 0.024 0.206 0.104 0.195 0.173]]\n",
            "\n",
            "Cluster weights:\n",
            "[0.114 0.085 0.227 0.221 0.256 0.097]\n"
          ],
          "name": "stdout"
        }
      ]
    },
    {
      "cell_type": "code",
      "metadata": {
        "colab": {
          "base_uri": "https://localhost:8080/",
          "height": 265
        },
        "id": "r5Jj39RCk6l3",
        "outputId": "bc907715-6a45-4b7f-fe67-0a82ab83adb9"
      },
      "source": [
        "### Visualization of SECANT cluster\r\n",
        "se_lbl = lbl_out.cpu().data.numpy()\r\n",
        "scatter1 = plt.scatter(embedding0[:, 0],\r\n",
        "                       embedding0[:, 1],\r\n",
        "                       c=se_lbl, s=0.1, cmap='Spectral')\r\n",
        "mylabel1 = range(1, len(np.unique(se_lbl))+1)\r\n",
        "legend1 = plt.legend(handles=scatter1.legend_elements(num=None)[0], labels=mylabel1, loc=\"best\", title=\"Clusters\", fontsize=\"small\", columnspacing = 0.01, handlelength =1.5, handletextpad =0.1, ncol=1)"
      ],
      "execution_count": 22,
      "outputs": [
        {
          "output_type": "display_data",
          "data": {
            "image/png": "[encoded data removed]",
            "text/plain": [
              "<Figure size 432x288 with 1 Axes>"
            ]
          },
          "metadata": {
            "tags": [],
            "needs_background": "light"
          }
        }
      ]
    }
  ]
}